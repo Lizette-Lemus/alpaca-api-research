{
 "cells": [
  {
   "cell_type": "code",
   "execution_count": 2,
   "id": "320a8431",
   "metadata": {},
   "outputs": [],
   "source": [
    "from alpaca.trading.client import TradingClient\n",
    "\n",
    "#Read credentials\n",
    "with open(\"/home/lizette/repos/alpaca-api-research/credentials.txt\", \"r\") as f:\n",
    "    lines = f.readlines()\n",
    "    API_KEY = lines[0][:-1]\n",
    "    SECRET_KEY = lines[1][:-1]\n",
    "        "
   ]
  },
  {
   "cell_type": "code",
   "execution_count": 4,
   "id": "7596a9be",
   "metadata": {},
   "outputs": [],
   "source": [
    "trading_client = TradingClient(API_KEY, SECRET_KEY, paper=True)\n"
   ]
  },
  {
   "cell_type": "code",
   "execution_count": 5,
   "id": "edf6800b",
   "metadata": {},
   "outputs": [
    {
     "name": "stdout",
     "output_type": "stream",
     "text": [
      "\"id\": 27014f18-1e40-47b0-9387-a3302397f49f\n",
      "\"account_number\": PA3FTQBZXAKJ\n",
      "\"status\": ACTIVE\n",
      "\"crypto_status\": ACTIVE\n",
      "\"currency\": USD\n",
      "\"buying_power\": 160772\n",
      "\"regt_buying_power\": 160772\n",
      "\"daytrading_buying_power\": 0\n",
      "\"non_marginable_buying_power\": 80386\n",
      "\"cash\": 80386\n",
      "\"accrued_fees\": 0\n",
      "\"pending_transfer_out\": None\n",
      "\"pending_transfer_in\": 0\n",
      "\"portfolio_value\": 99884.1325\n",
      "\"pattern_day_trader\": False\n",
      "\"trading_blocked\": False\n",
      "\"transfers_blocked\": False\n",
      "\"account_blocked\": False\n",
      "\"created_at\": 2022-09-18 18:20:46.743924+00:00\n",
      "\"trade_suspended_by_user\": False\n",
      "\"multiplier\": 2\n",
      "\"shorting_enabled\": True\n",
      "\"equity\": 99884.1325\n",
      "\"last_equity\": 100000\n",
      "\"long_market_value\": 19498.1325\n",
      "\"short_market_value\": 0\n",
      "\"initial_margin\": 0\n",
      "\"maintenance_margin\": 0\n",
      "\"last_maintenance_margin\": 0\n",
      "\"sma\": 0\n",
      "\"daytrade_count\": 0\n"
     ]
    }
   ],
   "source": [
    "account = trading_client.get_account()\n",
    "for property_name, value in account:\n",
    "  print(f\"\\\"{property_name}\\\": {value}\")\n"
   ]
  },
  {
   "cell_type": "code",
   "execution_count": 6,
   "id": "1284863e",
   "metadata": {},
   "outputs": [],
   "source": [
    "from alpaca.trading.requests import MarketOrderRequest\n",
    "from alpaca.trading.enums import OrderSide, TimeInForce\n",
    "\n",
    "# Setting parameters for our buy order\n",
    "market_order_data = MarketOrderRequest(\n",
    "                      symbol=\"BTC/USD\",\n",
    "                      qty=1,\n",
    "                      side=OrderSide.BUY,\n",
    "                      time_in_force=TimeInForce.GTC\n",
    "                  )"
   ]
  },
  {
   "cell_type": "code",
   "execution_count": 7,
   "id": "8ed46ba4",
   "metadata": {},
   "outputs": [],
   "source": [
    "# market_order = trading_client.submit_order(market_order_data)\n",
    "# for property_name, value in market_order:\n",
    "#   print(f\"\\\"{property_name}\\\": {value}\")\n"
   ]
  },
  {
   "cell_type": "code",
   "execution_count": 8,
   "id": "5a6c256c",
   "metadata": {},
   "outputs": [
    {
     "name": "stdout",
     "output_type": "stream",
     "text": [
      "\"asset_id\": 64bbff51-59d6-4b3c-9351-13ad85e3c752\n",
      "\"symbol\": BTCUSD\n",
      "\"exchange\": FTXU\n",
      "\"asset_class\": crypto\n",
      "\"avg_entry_price\": 19614\n",
      "\"qty\": 0.9975\n",
      "\"side\": long\n",
      "\"market_value\": 19523.07\n",
      "\"cost_basis\": 19564.965\n",
      "\"unrealized_pl\": -41.895\n",
      "\"unrealized_plpc\": -0.0021413276231263\n",
      "\"unrealized_intraday_pl\": -41.895\n",
      "\"unrealized_intraday_plpc\": -0.0021413276231263\n",
      "\"current_price\": 19572\n",
      "\"lastday_price\": 20001\n",
      "\"change_today\": -0.0214489275536223\n"
     ]
    }
   ],
   "source": [
    "positions = trading_client.get_all_positions()\n",
    "for position in positions:\n",
    "    for property_name, value in position:\n",
    "        print(f\"\\\"{property_name}\\\": {value}\")"
   ]
  }
 ],
 "metadata": {
  "kernelspec": {
   "display_name": "Python 3 (ipykernel)",
   "language": "python",
   "name": "python3"
  },
  "language_info": {
   "codemirror_mode": {
    "name": "ipython",
    "version": 3
   },
   "file_extension": ".py",
   "mimetype": "text/x-python",
   "name": "python",
   "nbconvert_exporter": "python",
   "pygments_lexer": "ipython3",
   "version": "3.10.4"
  }
 },
 "nbformat": 4,
 "nbformat_minor": 5
}
